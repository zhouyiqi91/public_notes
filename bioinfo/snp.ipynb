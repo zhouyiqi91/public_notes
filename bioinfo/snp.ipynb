{
 "cells": [
  {
   "cell_type": "code",
   "execution_count": 27,
   "metadata": {
    "vscode": {
     "languageId": "r"
    }
   },
   "outputs": [],
   "source": [
    "# overlay variant information(support matrix) with scRNA matrix"
   ]
  },
  {
   "cell_type": "code",
   "execution_count": 34,
   "metadata": {
    "vscode": {
     "languageId": "r"
    }
   },
   "outputs": [],
   "source": [
    "library(Seurat)\n",
    "support_mtx = Seurat::Read10X('/SGRNJ06/randd/USER/zhouyiqi/2024/test/snp1.5.1/support_mtx',gene.column = 1)"
   ]
  },
  {
   "cell_type": "code",
   "execution_count": 35,
   "metadata": {
    "vscode": {
     "languageId": "r"
    }
   },
   "outputs": [
    {
     "data": {
      "text/html": [
       "<table class=\"dataframe\">\n",
       "<caption>A data.frame: 6 × 206</caption>\n",
       "<thead>\n",
       "\t<tr><th></th><th scope=col>variant_1 1 114590381 A T</th><th scope=col>variant_2 1 114707695 T C</th><th scope=col>variant_3 1 114708169 T A</th><th scope=col>variant_4 1 114713817 C T</th><th scope=col>variant_5 1 114713826 C T</th><th scope=col>variant_6 1 114713846 A G</th><th scope=col>variant_7 1 114713852 A G</th><th scope=col>variant_8 1 114713859 G C</th><th scope=col>variant_9 1 114713875 A G</th><th scope=col>variant_10 1 114713880 T C</th><th scope=col>⋯</th><th scope=col>variant_197 7 55174791 T C</th><th scope=col>variant_198 7 55174796 G A</th><th scope=col>variant_199 7 55174796 G T</th><th scope=col>variant_200 7 55174797 A G</th><th scope=col>variant_201 7 55174807 A G</th><th scope=col>variant_202 7 55181309 C T</th><th scope=col>variant_203 7 55181347 A G</th><th scope=col>variant_204 7 55181370 G A</th><th scope=col>variant_205 7 55181378 C T</th><th scope=col>variant_206 7 55191822 T G</th></tr>\n",
       "\t<tr><th></th><th scope=col>&lt;dbl&gt;</th><th scope=col>&lt;dbl&gt;</th><th scope=col>&lt;dbl&gt;</th><th scope=col>&lt;dbl&gt;</th><th scope=col>&lt;dbl&gt;</th><th scope=col>&lt;dbl&gt;</th><th scope=col>&lt;dbl&gt;</th><th scope=col>&lt;dbl&gt;</th><th scope=col>&lt;dbl&gt;</th><th scope=col>&lt;dbl&gt;</th><th scope=col>⋯</th><th scope=col>&lt;dbl&gt;</th><th scope=col>&lt;dbl&gt;</th><th scope=col>&lt;dbl&gt;</th><th scope=col>&lt;dbl&gt;</th><th scope=col>&lt;dbl&gt;</th><th scope=col>&lt;dbl&gt;</th><th scope=col>&lt;dbl&gt;</th><th scope=col>&lt;dbl&gt;</th><th scope=col>&lt;dbl&gt;</th><th scope=col>&lt;dbl&gt;</th></tr>\n",
       "</thead>\n",
       "<tbody>\n",
       "\t<tr><th scope=row>AAACATCGAACAACCAACAGATTC</th><td>0</td><td>0</td><td>0</td><td>0</td><td>0</td><td>0</td><td>0</td><td>0</td><td>0</td><td>0</td><td>⋯</td><td>0</td><td>0</td><td>0</td><td>0</td><td>0</td><td>0</td><td>0</td><td>0</td><td>0</td><td>0</td></tr>\n",
       "\t<tr><th scope=row>AAACATCGAACGCTTAAGATCGCA</th><td>0</td><td>0</td><td>0</td><td>0</td><td>0</td><td>0</td><td>0</td><td>0</td><td>0</td><td>0</td><td>⋯</td><td>0</td><td>0</td><td>0</td><td>0</td><td>0</td><td>0</td><td>0</td><td>0</td><td>0</td><td>0</td></tr>\n",
       "\t<tr><th scope=row>AAACATCGAACGCTTAGCTAACGA</th><td>0</td><td>0</td><td>0</td><td>0</td><td>0</td><td>0</td><td>0</td><td>0</td><td>0</td><td>0</td><td>⋯</td><td>0</td><td>0</td><td>0</td><td>0</td><td>0</td><td>0</td><td>0</td><td>0</td><td>0</td><td>0</td></tr>\n",
       "\t<tr><th scope=row>AAACATCGAACGTGATCAAGGAGC</th><td>0</td><td>0</td><td>0</td><td>0</td><td>0</td><td>0</td><td>0</td><td>0</td><td>0</td><td>0</td><td>⋯</td><td>0</td><td>0</td><td>0</td><td>0</td><td>0</td><td>0</td><td>0</td><td>0</td><td>0</td><td>0</td></tr>\n",
       "\t<tr><th scope=row>AAACATCGAACGTGATTGAAGAGA</th><td>0</td><td>0</td><td>0</td><td>0</td><td>0</td><td>0</td><td>0</td><td>0</td><td>0</td><td>0</td><td>⋯</td><td>0</td><td>0</td><td>0</td><td>0</td><td>0</td><td>0</td><td>0</td><td>0</td><td>0</td><td>0</td></tr>\n",
       "\t<tr><th scope=row>AAACATCGAAGACGGAGCCAAGAC</th><td>0</td><td>0</td><td>0</td><td>0</td><td>0</td><td>0</td><td>0</td><td>0</td><td>0</td><td>0</td><td>⋯</td><td>0</td><td>0</td><td>0</td><td>0</td><td>0</td><td>0</td><td>0</td><td>0</td><td>0</td><td>0</td></tr>\n",
       "</tbody>\n",
       "</table>\n"
      ],
      "text/latex": [
       "A data.frame: 6 × 206\n",
       "\\begin{tabular}{r|lllllllllllllllllllll}\n",
       "  & variant\\_1 1 114590381 A T & variant\\_2 1 114707695 T C & variant\\_3 1 114708169 T A & variant\\_4 1 114713817 C T & variant\\_5 1 114713826 C T & variant\\_6 1 114713846 A G & variant\\_7 1 114713852 A G & variant\\_8 1 114713859 G C & variant\\_9 1 114713875 A G & variant\\_10 1 114713880 T C & ⋯ & variant\\_197 7 55174791 T C & variant\\_198 7 55174796 G A & variant\\_199 7 55174796 G T & variant\\_200 7 55174797 A G & variant\\_201 7 55174807 A G & variant\\_202 7 55181309 C T & variant\\_203 7 55181347 A G & variant\\_204 7 55181370 G A & variant\\_205 7 55181378 C T & variant\\_206 7 55191822 T G\\\\\n",
       "  & <dbl> & <dbl> & <dbl> & <dbl> & <dbl> & <dbl> & <dbl> & <dbl> & <dbl> & <dbl> & ⋯ & <dbl> & <dbl> & <dbl> & <dbl> & <dbl> & <dbl> & <dbl> & <dbl> & <dbl> & <dbl>\\\\\n",
       "\\hline\n",
       "\tAAACATCGAACAACCAACAGATTC & 0 & 0 & 0 & 0 & 0 & 0 & 0 & 0 & 0 & 0 & ⋯ & 0 & 0 & 0 & 0 & 0 & 0 & 0 & 0 & 0 & 0\\\\\n",
       "\tAAACATCGAACGCTTAAGATCGCA & 0 & 0 & 0 & 0 & 0 & 0 & 0 & 0 & 0 & 0 & ⋯ & 0 & 0 & 0 & 0 & 0 & 0 & 0 & 0 & 0 & 0\\\\\n",
       "\tAAACATCGAACGCTTAGCTAACGA & 0 & 0 & 0 & 0 & 0 & 0 & 0 & 0 & 0 & 0 & ⋯ & 0 & 0 & 0 & 0 & 0 & 0 & 0 & 0 & 0 & 0\\\\\n",
       "\tAAACATCGAACGTGATCAAGGAGC & 0 & 0 & 0 & 0 & 0 & 0 & 0 & 0 & 0 & 0 & ⋯ & 0 & 0 & 0 & 0 & 0 & 0 & 0 & 0 & 0 & 0\\\\\n",
       "\tAAACATCGAACGTGATTGAAGAGA & 0 & 0 & 0 & 0 & 0 & 0 & 0 & 0 & 0 & 0 & ⋯ & 0 & 0 & 0 & 0 & 0 & 0 & 0 & 0 & 0 & 0\\\\\n",
       "\tAAACATCGAAGACGGAGCCAAGAC & 0 & 0 & 0 & 0 & 0 & 0 & 0 & 0 & 0 & 0 & ⋯ & 0 & 0 & 0 & 0 & 0 & 0 & 0 & 0 & 0 & 0\\\\\n",
       "\\end{tabular}\n"
      ],
      "text/markdown": [
       "\n",
       "A data.frame: 6 × 206\n",
       "\n",
       "| <!--/--> | variant_1 1 114590381 A T &lt;dbl&gt; | variant_2 1 114707695 T C &lt;dbl&gt; | variant_3 1 114708169 T A &lt;dbl&gt; | variant_4 1 114713817 C T &lt;dbl&gt; | variant_5 1 114713826 C T &lt;dbl&gt; | variant_6 1 114713846 A G &lt;dbl&gt; | variant_7 1 114713852 A G &lt;dbl&gt; | variant_8 1 114713859 G C &lt;dbl&gt; | variant_9 1 114713875 A G &lt;dbl&gt; | variant_10 1 114713880 T C &lt;dbl&gt; | ⋯ ⋯ | variant_197 7 55174791 T C &lt;dbl&gt; | variant_198 7 55174796 G A &lt;dbl&gt; | variant_199 7 55174796 G T &lt;dbl&gt; | variant_200 7 55174797 A G &lt;dbl&gt; | variant_201 7 55174807 A G &lt;dbl&gt; | variant_202 7 55181309 C T &lt;dbl&gt; | variant_203 7 55181347 A G &lt;dbl&gt; | variant_204 7 55181370 G A &lt;dbl&gt; | variant_205 7 55181378 C T &lt;dbl&gt; | variant_206 7 55191822 T G &lt;dbl&gt; |\n",
       "|---|---|---|---|---|---|---|---|---|---|---|---|---|---|---|---|---|---|---|---|---|---|\n",
       "| AAACATCGAACAACCAACAGATTC | 0 | 0 | 0 | 0 | 0 | 0 | 0 | 0 | 0 | 0 | ⋯ | 0 | 0 | 0 | 0 | 0 | 0 | 0 | 0 | 0 | 0 |\n",
       "| AAACATCGAACGCTTAAGATCGCA | 0 | 0 | 0 | 0 | 0 | 0 | 0 | 0 | 0 | 0 | ⋯ | 0 | 0 | 0 | 0 | 0 | 0 | 0 | 0 | 0 | 0 |\n",
       "| AAACATCGAACGCTTAGCTAACGA | 0 | 0 | 0 | 0 | 0 | 0 | 0 | 0 | 0 | 0 | ⋯ | 0 | 0 | 0 | 0 | 0 | 0 | 0 | 0 | 0 | 0 |\n",
       "| AAACATCGAACGTGATCAAGGAGC | 0 | 0 | 0 | 0 | 0 | 0 | 0 | 0 | 0 | 0 | ⋯ | 0 | 0 | 0 | 0 | 0 | 0 | 0 | 0 | 0 | 0 |\n",
       "| AAACATCGAACGTGATTGAAGAGA | 0 | 0 | 0 | 0 | 0 | 0 | 0 | 0 | 0 | 0 | ⋯ | 0 | 0 | 0 | 0 | 0 | 0 | 0 | 0 | 0 | 0 |\n",
       "| AAACATCGAAGACGGAGCCAAGAC | 0 | 0 | 0 | 0 | 0 | 0 | 0 | 0 | 0 | 0 | ⋯ | 0 | 0 | 0 | 0 | 0 | 0 | 0 | 0 | 0 | 0 |\n",
       "\n"
      ],
      "text/plain": [
       "                         variant_1 1 114590381 A T variant_2 1 114707695 T C\n",
       "AAACATCGAACAACCAACAGATTC 0                         0                        \n",
       "AAACATCGAACGCTTAAGATCGCA 0                         0                        \n",
       "AAACATCGAACGCTTAGCTAACGA 0                         0                        \n",
       "AAACATCGAACGTGATCAAGGAGC 0                         0                        \n",
       "AAACATCGAACGTGATTGAAGAGA 0                         0                        \n",
       "AAACATCGAAGACGGAGCCAAGAC 0                         0                        \n",
       "                         variant_3 1 114708169 T A variant_4 1 114713817 C T\n",
       "AAACATCGAACAACCAACAGATTC 0                         0                        \n",
       "AAACATCGAACGCTTAAGATCGCA 0                         0                        \n",
       "AAACATCGAACGCTTAGCTAACGA 0                         0                        \n",
       "AAACATCGAACGTGATCAAGGAGC 0                         0                        \n",
       "AAACATCGAACGTGATTGAAGAGA 0                         0                        \n",
       "AAACATCGAAGACGGAGCCAAGAC 0                         0                        \n",
       "                         variant_5 1 114713826 C T variant_6 1 114713846 A G\n",
       "AAACATCGAACAACCAACAGATTC 0                         0                        \n",
       "AAACATCGAACGCTTAAGATCGCA 0                         0                        \n",
       "AAACATCGAACGCTTAGCTAACGA 0                         0                        \n",
       "AAACATCGAACGTGATCAAGGAGC 0                         0                        \n",
       "AAACATCGAACGTGATTGAAGAGA 0                         0                        \n",
       "AAACATCGAAGACGGAGCCAAGAC 0                         0                        \n",
       "                         variant_7 1 114713852 A G variant_8 1 114713859 G C\n",
       "AAACATCGAACAACCAACAGATTC 0                         0                        \n",
       "AAACATCGAACGCTTAAGATCGCA 0                         0                        \n",
       "AAACATCGAACGCTTAGCTAACGA 0                         0                        \n",
       "AAACATCGAACGTGATCAAGGAGC 0                         0                        \n",
       "AAACATCGAACGTGATTGAAGAGA 0                         0                        \n",
       "AAACATCGAAGACGGAGCCAAGAC 0                         0                        \n",
       "                         variant_9 1 114713875 A G variant_10 1 114713880 T C ⋯\n",
       "AAACATCGAACAACCAACAGATTC 0                         0                          ⋯\n",
       "AAACATCGAACGCTTAAGATCGCA 0                         0                          ⋯\n",
       "AAACATCGAACGCTTAGCTAACGA 0                         0                          ⋯\n",
       "AAACATCGAACGTGATCAAGGAGC 0                         0                          ⋯\n",
       "AAACATCGAACGTGATTGAAGAGA 0                         0                          ⋯\n",
       "AAACATCGAAGACGGAGCCAAGAC 0                         0                          ⋯\n",
       "                         variant_197 7 55174791 T C variant_198 7 55174796 G A\n",
       "AAACATCGAACAACCAACAGATTC 0                          0                         \n",
       "AAACATCGAACGCTTAAGATCGCA 0                          0                         \n",
       "AAACATCGAACGCTTAGCTAACGA 0                          0                         \n",
       "AAACATCGAACGTGATCAAGGAGC 0                          0                         \n",
       "AAACATCGAACGTGATTGAAGAGA 0                          0                         \n",
       "AAACATCGAAGACGGAGCCAAGAC 0                          0                         \n",
       "                         variant_199 7 55174796 G T variant_200 7 55174797 A G\n",
       "AAACATCGAACAACCAACAGATTC 0                          0                         \n",
       "AAACATCGAACGCTTAAGATCGCA 0                          0                         \n",
       "AAACATCGAACGCTTAGCTAACGA 0                          0                         \n",
       "AAACATCGAACGTGATCAAGGAGC 0                          0                         \n",
       "AAACATCGAACGTGATTGAAGAGA 0                          0                         \n",
       "AAACATCGAAGACGGAGCCAAGAC 0                          0                         \n",
       "                         variant_201 7 55174807 A G variant_202 7 55181309 C T\n",
       "AAACATCGAACAACCAACAGATTC 0                          0                         \n",
       "AAACATCGAACGCTTAAGATCGCA 0                          0                         \n",
       "AAACATCGAACGCTTAGCTAACGA 0                          0                         \n",
       "AAACATCGAACGTGATCAAGGAGC 0                          0                         \n",
       "AAACATCGAACGTGATTGAAGAGA 0                          0                         \n",
       "AAACATCGAAGACGGAGCCAAGAC 0                          0                         \n",
       "                         variant_203 7 55181347 A G variant_204 7 55181370 G A\n",
       "AAACATCGAACAACCAACAGATTC 0                          0                         \n",
       "AAACATCGAACGCTTAAGATCGCA 0                          0                         \n",
       "AAACATCGAACGCTTAGCTAACGA 0                          0                         \n",
       "AAACATCGAACGTGATCAAGGAGC 0                          0                         \n",
       "AAACATCGAACGTGATTGAAGAGA 0                          0                         \n",
       "AAACATCGAAGACGGAGCCAAGAC 0                          0                         \n",
       "                         variant_205 7 55181378 C T variant_206 7 55191822 T G\n",
       "AAACATCGAACAACCAACAGATTC 0                          0                         \n",
       "AAACATCGAACGCTTAAGATCGCA 0                          0                         \n",
       "AAACATCGAACGCTTAGCTAACGA 0                          0                         \n",
       "AAACATCGAACGTGATCAAGGAGC 0                          0                         \n",
       "AAACATCGAACGTGATTGAAGAGA 0                          0                         \n",
       "AAACATCGAAGACGGAGCCAAGAC 0                          0                         "
      ]
     },
     "metadata": {},
     "output_type": "display_data"
    }
   ],
   "source": [
    "# convert the matrix to a dataframe\n",
    "df = as.data.frame(t(support_mtx))\n",
    "head(df)"
   ]
  },
  {
   "cell_type": "code",
   "execution_count": null,
   "metadata": {
    "vscode": {
     "languageId": "r"
    }
   },
   "outputs": [],
   "source": []
  },
  {
   "cell_type": "code",
   "execution_count": 42,
   "metadata": {
    "vscode": {
     "languageId": "r"
    }
   },
   "outputs": [
    {
     "data": {
      "text/html": [
       "<table class=\"dataframe\">\n",
       "<caption>A data.frame: 6 × 1</caption>\n",
       "<thead>\n",
       "\t<tr><th></th><th scope=col>chr1:114713964:T-C</th></tr>\n",
       "\t<tr><th></th><th scope=col>&lt;dbl&gt;</th></tr>\n",
       "</thead>\n",
       "<tbody>\n",
       "\t<tr><th scope=row>AAACATCGAACAACCAACAGATTC</th><td>0</td></tr>\n",
       "\t<tr><th scope=row>AAACATCGAACGCTTAAGATCGCA</th><td>1</td></tr>\n",
       "\t<tr><th scope=row>AAACATCGAACGCTTAGCTAACGA</th><td>1</td></tr>\n",
       "\t<tr><th scope=row>AAACATCGAACGTGATCAAGGAGC</th><td>1</td></tr>\n",
       "\t<tr><th scope=row>AAACATCGAACGTGATTGAAGAGA</th><td>0</td></tr>\n",
       "\t<tr><th scope=row>AAACATCGAAGACGGAGCCAAGAC</th><td>1</td></tr>\n",
       "</tbody>\n",
       "</table>\n"
      ],
      "text/latex": [
       "A data.frame: 6 × 1\n",
       "\\begin{tabular}{r|l}\n",
       "  & chr1:114713964:T-C\\\\\n",
       "  & <dbl>\\\\\n",
       "\\hline\n",
       "\tAAACATCGAACAACCAACAGATTC & 0\\\\\n",
       "\tAAACATCGAACGCTTAAGATCGCA & 1\\\\\n",
       "\tAAACATCGAACGCTTAGCTAACGA & 1\\\\\n",
       "\tAAACATCGAACGTGATCAAGGAGC & 1\\\\\n",
       "\tAAACATCGAACGTGATTGAAGAGA & 0\\\\\n",
       "\tAAACATCGAAGACGGAGCCAAGAC & 1\\\\\n",
       "\\end{tabular}\n"
      ],
      "text/markdown": [
       "\n",
       "A data.frame: 6 × 1\n",
       "\n",
       "| <!--/--> | chr1:114713964:T-C &lt;dbl&gt; |\n",
       "|---|---|\n",
       "| AAACATCGAACAACCAACAGATTC | 0 |\n",
       "| AAACATCGAACGCTTAAGATCGCA | 1 |\n",
       "| AAACATCGAACGCTTAGCTAACGA | 1 |\n",
       "| AAACATCGAACGTGATCAAGGAGC | 1 |\n",
       "| AAACATCGAACGTGATTGAAGAGA | 0 |\n",
       "| AAACATCGAAGACGGAGCCAAGAC | 1 |\n",
       "\n"
      ],
      "text/plain": [
       "                         chr1:114713964:T-C\n",
       "AAACATCGAACAACCAACAGATTC 0                 \n",
       "AAACATCGAACGCTTAAGATCGCA 1                 \n",
       "AAACATCGAACGCTTAGCTAACGA 1                 \n",
       "AAACATCGAACGTGATCAAGGAGC 1                 \n",
       "AAACATCGAACGTGATTGAAGAGA 0                 \n",
       "AAACATCGAAGACGGAGCCAAGAC 1                 "
      ]
     },
     "metadata": {},
     "output_type": "display_data"
    }
   ],
   "source": [
    "# Pull a variant of interest\n",
    "library(dplyr)\n",
    "library(stringr)\n",
    "chr1_114713964 = df['variant_20 1 114713964 T C']\n",
    "chr1_114713964 <- chr1_114713964 %>%\n",
    "  rename(`chr1:114713964:T-C` = `variant_20 1 114713964 T C`)\n",
    "head(chr1_114713964)"
   ]
  },
  {
   "cell_type": "code",
   "execution_count": 43,
   "metadata": {
    "vscode": {
     "languageId": "r"
    }
   },
   "outputs": [
    {
     "data": {
      "text/html": [
       "<table class=\"dataframe\">\n",
       "<caption>A data.frame: 6 × 1</caption>\n",
       "<thead>\n",
       "\t<tr><th></th><th scope=col>chr1:114713964:T-C</th></tr>\n",
       "\t<tr><th></th><th scope=col>&lt;chr&gt;</th></tr>\n",
       "</thead>\n",
       "<tbody>\n",
       "\t<tr><th scope=row>AAACATCGAACAACCAACAGATTC</th><td>No Call</td></tr>\n",
       "\t<tr><th scope=row>AAACATCGAACGCTTAAGATCGCA</th><td>ref/ref</td></tr>\n",
       "\t<tr><th scope=row>AAACATCGAACGCTTAGCTAACGA</th><td>ref/ref</td></tr>\n",
       "\t<tr><th scope=row>AAACATCGAACGTGATCAAGGAGC</th><td>ref/ref</td></tr>\n",
       "\t<tr><th scope=row>AAACATCGAACGTGATTGAAGAGA</th><td>No Call</td></tr>\n",
       "\t<tr><th scope=row>AAACATCGAAGACGGAGCCAAGAC</th><td>ref/ref</td></tr>\n",
       "</tbody>\n",
       "</table>\n"
      ],
      "text/latex": [
       "A data.frame: 6 × 1\n",
       "\\begin{tabular}{r|l}\n",
       "  & chr1:114713964:T-C\\\\\n",
       "  & <chr>\\\\\n",
       "\\hline\n",
       "\tAAACATCGAACAACCAACAGATTC & No Call\\\\\n",
       "\tAAACATCGAACGCTTAAGATCGCA & ref/ref\\\\\n",
       "\tAAACATCGAACGCTTAGCTAACGA & ref/ref\\\\\n",
       "\tAAACATCGAACGTGATCAAGGAGC & ref/ref\\\\\n",
       "\tAAACATCGAACGTGATTGAAGAGA & No Call\\\\\n",
       "\tAAACATCGAAGACGGAGCCAAGAC & ref/ref\\\\\n",
       "\\end{tabular}\n"
      ],
      "text/markdown": [
       "\n",
       "A data.frame: 6 × 1\n",
       "\n",
       "| <!--/--> | chr1:114713964:T-C &lt;chr&gt; |\n",
       "|---|---|\n",
       "| AAACATCGAACAACCAACAGATTC | No Call |\n",
       "| AAACATCGAACGCTTAAGATCGCA | ref/ref |\n",
       "| AAACATCGAACGCTTAGCTAACGA | ref/ref |\n",
       "| AAACATCGAACGTGATCAAGGAGC | ref/ref |\n",
       "| AAACATCGAACGTGATTGAAGAGA | No Call |\n",
       "| AAACATCGAAGACGGAGCCAAGAC | ref/ref |\n",
       "\n"
      ],
      "text/plain": [
       "                         chr1:114713964:T-C\n",
       "AAACATCGAACAACCAACAGATTC No Call           \n",
       "AAACATCGAACGCTTAAGATCGCA ref/ref           \n",
       "AAACATCGAACGCTTAGCTAACGA ref/ref           \n",
       "AAACATCGAACGTGATCAAGGAGC ref/ref           \n",
       "AAACATCGAACGTGATTGAAGAGA No Call           \n",
       "AAACATCGAAGACGGAGCCAAGAC ref/ref           "
      ]
     },
     "metadata": {},
     "output_type": "display_data"
    }
   ],
   "source": [
    "# rename number to meaningful label\n",
    "chr1_114713964 <- chr1_114713964 %>%\n",
    "  mutate(`chr1:114713964:T-C` = recode(as.character(`chr1:114713964:T-C`), \n",
    "                       `0` = \"No Call\", \n",
    "                       `1` = \"ref/ref\", \n",
    "                       `2` = \"alt/alt\", \n",
    "                       `3` = \"alt/ref\"))\n",
    "head(chr1_114713964)"
   ]
  },
  {
   "cell_type": "code",
   "execution_count": 51,
   "metadata": {
    "vscode": {
     "languageId": "r"
    }
   },
   "outputs": [
    {
     "name": "stderr",
     "output_type": "stream",
     "text": [
      "Warning message:\n",
      "“Feature names cannot have underscores ('_'), replacing with dashes ('-')”\n"
     ]
    },
    {
     "data": {
      "text/html": [
       "<table class=\"dataframe\">\n",
       "<caption>A data.frame: 6 × 4</caption>\n",
       "<thead>\n",
       "\t<tr><th></th><th scope=col>orig.ident</th><th scope=col>nCount_RNA</th><th scope=col>nFeature_RNA</th><th scope=col>chr1:114713964:T-C</th></tr>\n",
       "\t<tr><th></th><th scope=col>&lt;fct&gt;</th><th scope=col>&lt;dbl&gt;</th><th scope=col>&lt;int&gt;</th><th scope=col>&lt;chr&gt;</th></tr>\n",
       "</thead>\n",
       "<tbody>\n",
       "\t<tr><th scope=row>AAACATCGAACAACCAACAGATTC</th><td>seurat_obj</td><td>786</td><td>529</td><td>No Call</td></tr>\n",
       "\t<tr><th scope=row>AAACATCGAACGCTTAAGATCGCA</th><td>seurat_obj</td><td>415</td><td>261</td><td>ref/ref</td></tr>\n",
       "\t<tr><th scope=row>AAACATCGAACGCTTAGCTAACGA</th><td>seurat_obj</td><td>812</td><td>460</td><td>ref/ref</td></tr>\n",
       "\t<tr><th scope=row>AAACATCGAACGTGATCAAGGAGC</th><td>seurat_obj</td><td>597</td><td>349</td><td>ref/ref</td></tr>\n",
       "\t<tr><th scope=row>AAACATCGAACGTGATTGAAGAGA</th><td>seurat_obj</td><td>819</td><td>576</td><td>No Call</td></tr>\n",
       "\t<tr><th scope=row>AAACATCGAAGACGGAGCCAAGAC</th><td>seurat_obj</td><td>859</td><td>548</td><td>ref/ref</td></tr>\n",
       "</tbody>\n",
       "</table>\n"
      ],
      "text/latex": [
       "A data.frame: 6 × 4\n",
       "\\begin{tabular}{r|llll}\n",
       "  & orig.ident & nCount\\_RNA & nFeature\\_RNA & chr1:114713964:T-C\\\\\n",
       "  & <fct> & <dbl> & <int> & <chr>\\\\\n",
       "\\hline\n",
       "\tAAACATCGAACAACCAACAGATTC & seurat\\_obj & 786 & 529 & No Call\\\\\n",
       "\tAAACATCGAACGCTTAAGATCGCA & seurat\\_obj & 415 & 261 & ref/ref\\\\\n",
       "\tAAACATCGAACGCTTAGCTAACGA & seurat\\_obj & 812 & 460 & ref/ref\\\\\n",
       "\tAAACATCGAACGTGATCAAGGAGC & seurat\\_obj & 597 & 349 & ref/ref\\\\\n",
       "\tAAACATCGAACGTGATTGAAGAGA & seurat\\_obj & 819 & 576 & No Call\\\\\n",
       "\tAAACATCGAAGACGGAGCCAAGAC & seurat\\_obj & 859 & 548 & ref/ref\\\\\n",
       "\\end{tabular}\n"
      ],
      "text/markdown": [
       "\n",
       "A data.frame: 6 × 4\n",
       "\n",
       "| <!--/--> | orig.ident &lt;fct&gt; | nCount_RNA &lt;dbl&gt; | nFeature_RNA &lt;int&gt; | chr1:114713964:T-C &lt;chr&gt; |\n",
       "|---|---|---|---|---|\n",
       "| AAACATCGAACAACCAACAGATTC | seurat_obj | 786 | 529 | No Call |\n",
       "| AAACATCGAACGCTTAAGATCGCA | seurat_obj | 415 | 261 | ref/ref |\n",
       "| AAACATCGAACGCTTAGCTAACGA | seurat_obj | 812 | 460 | ref/ref |\n",
       "| AAACATCGAACGTGATCAAGGAGC | seurat_obj | 597 | 349 | ref/ref |\n",
       "| AAACATCGAACGTGATTGAAGAGA | seurat_obj | 819 | 576 | No Call |\n",
       "| AAACATCGAAGACGGAGCCAAGAC | seurat_obj | 859 | 548 | ref/ref |\n",
       "\n"
      ],
      "text/plain": [
       "                         orig.ident nCount_RNA nFeature_RNA chr1:114713964:T-C\n",
       "AAACATCGAACAACCAACAGATTC seurat_obj 786        529          No Call           \n",
       "AAACATCGAACGCTTAAGATCGCA seurat_obj 415        261          ref/ref           \n",
       "AAACATCGAACGCTTAGCTAACGA seurat_obj 812        460          ref/ref           \n",
       "AAACATCGAACGTGATCAAGGAGC seurat_obj 597        349          ref/ref           \n",
       "AAACATCGAACGTGATTGAAGAGA seurat_obj 819        576          No Call           \n",
       "AAACATCGAAGACGGAGCCAAGAC seurat_obj 859        548          ref/ref           "
      ]
     },
     "metadata": {},
     "output_type": "display_data"
    }
   ],
   "source": [
    "# merge with scRNA matrix, add the variant to metadata\n",
    "seurat.data <- Read10X(\"/SGRNJ06/randd/USER/zhouyiqi/2024/test/snp1.5.1/scRNA_matrix\")\n",
    "seurat_obj <- CreateSeuratObject(seurat.data, min.cells = 1, project = \"seurat_obj\")\n",
    "seurat_obj <- AddMetaData(object = seurat_obj, metadata = chr1_114713964)\n",
    "head(seurat_obj[[]])"
   ]
  },
  {
   "cell_type": "code",
   "execution_count": null,
   "metadata": {
    "vscode": {
     "languageId": "r"
    }
   },
   "outputs": [],
   "source": []
  }
 ],
 "metadata": {
  "kernelspec": {
   "display_name": "R",
   "language": "R",
   "name": "ir"
  },
  "language_info": {
   "codemirror_mode": "r",
   "file_extension": ".r",
   "mimetype": "text/x-r-source",
   "name": "R",
   "pygments_lexer": "r",
   "version": "4.4.0"
  }
 },
 "nbformat": 4,
 "nbformat_minor": 2
}
