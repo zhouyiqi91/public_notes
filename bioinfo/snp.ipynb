{
 "cells": [
  {
   "cell_type": "code",
   "execution_count": 20,
   "metadata": {
    "vscode": {
     "languageId": "r"
    }
   },
   "outputs": [],
   "source": [
    "# overlay variant information(support matrix) with scRNA matrix"
   ]
  },
  {
   "cell_type": "code",
   "execution_count": 21,
   "metadata": {
    "vscode": {
     "languageId": "r"
    }
   },
   "outputs": [],
   "source": [
    "library(Seurat)\n",
    "support_mtx = Seurat::Read10X('/SGRNJ06/randd/USER/zhouyiqi/2024/test/snp1.5.1/support_mtx',gene.column = 1)"
   ]
  },
  {
   "cell_type": "code",
   "execution_count": 22,
   "metadata": {
    "vscode": {
     "languageId": "r"
    }
   },
   "outputs": [
    {
     "data": {
      "text/html": [
       "<table class=\"dataframe\">\n",
       "<caption>A data.frame: 6 × 206</caption>\n",
       "<thead>\n",
       "\t<tr><th></th><th scope=col>variant_1 1 114590381 A T</th><th scope=col>variant_2 1 114707695 T C</th><th scope=col>variant_3 1 114708169 T A</th><th scope=col>variant_4 1 114713817 C T</th><th scope=col>variant_5 1 114713826 C T</th><th scope=col>variant_6 1 114713846 A G</th><th scope=col>variant_7 1 114713852 A G</th><th scope=col>variant_8 1 114713859 G C</th><th scope=col>variant_9 1 114713875 A G</th><th scope=col>variant_10 1 114713880 T C</th><th scope=col>⋯</th><th scope=col>variant_197 7 55174791 T C</th><th scope=col>variant_198 7 55174796 G A</th><th scope=col>variant_199 7 55174796 G T</th><th scope=col>variant_200 7 55174797 A G</th><th scope=col>variant_201 7 55174807 A G</th><th scope=col>variant_202 7 55181309 C T</th><th scope=col>variant_203 7 55181347 A G</th><th scope=col>variant_204 7 55181370 G A</th><th scope=col>variant_205 7 55181378 C T</th><th scope=col>variant_206 7 55191822 T G</th></tr>\n",
       "\t<tr><th></th><th scope=col>&lt;dbl&gt;</th><th scope=col>&lt;dbl&gt;</th><th scope=col>&lt;dbl&gt;</th><th scope=col>&lt;dbl&gt;</th><th scope=col>&lt;dbl&gt;</th><th scope=col>&lt;dbl&gt;</th><th scope=col>&lt;dbl&gt;</th><th scope=col>&lt;dbl&gt;</th><th scope=col>&lt;dbl&gt;</th><th scope=col>&lt;dbl&gt;</th><th scope=col>⋯</th><th scope=col>&lt;dbl&gt;</th><th scope=col>&lt;dbl&gt;</th><th scope=col>&lt;dbl&gt;</th><th scope=col>&lt;dbl&gt;</th><th scope=col>&lt;dbl&gt;</th><th scope=col>&lt;dbl&gt;</th><th scope=col>&lt;dbl&gt;</th><th scope=col>&lt;dbl&gt;</th><th scope=col>&lt;dbl&gt;</th><th scope=col>&lt;dbl&gt;</th></tr>\n",
       "</thead>\n",
       "<tbody>\n",
       "\t<tr><th scope=row>AAACATCGAACAACCAACAGATTC</th><td>0</td><td>0</td><td>0</td><td>0</td><td>0</td><td>0</td><td>0</td><td>0</td><td>0</td><td>0</td><td>⋯</td><td>0</td><td>0</td><td>0</td><td>0</td><td>0</td><td>0</td><td>0</td><td>0</td><td>0</td><td>0</td></tr>\n",
       "\t<tr><th scope=row>AAACATCGAACGCTTAAGATCGCA</th><td>0</td><td>0</td><td>0</td><td>0</td><td>0</td><td>0</td><td>0</td><td>0</td><td>0</td><td>0</td><td>⋯</td><td>0</td><td>0</td><td>0</td><td>0</td><td>0</td><td>0</td><td>0</td><td>0</td><td>0</td><td>0</td></tr>\n",
       "\t<tr><th scope=row>AAACATCGAACGCTTAGCTAACGA</th><td>0</td><td>0</td><td>0</td><td>0</td><td>0</td><td>0</td><td>0</td><td>0</td><td>0</td><td>0</td><td>⋯</td><td>0</td><td>0</td><td>0</td><td>0</td><td>0</td><td>0</td><td>0</td><td>0</td><td>0</td><td>0</td></tr>\n",
       "\t<tr><th scope=row>AAACATCGAACGTGATCAAGGAGC</th><td>0</td><td>0</td><td>0</td><td>0</td><td>0</td><td>0</td><td>0</td><td>0</td><td>0</td><td>0</td><td>⋯</td><td>0</td><td>0</td><td>0</td><td>0</td><td>0</td><td>0</td><td>0</td><td>0</td><td>0</td><td>0</td></tr>\n",
       "\t<tr><th scope=row>AAACATCGAACGTGATTGAAGAGA</th><td>0</td><td>0</td><td>0</td><td>0</td><td>0</td><td>0</td><td>0</td><td>0</td><td>0</td><td>0</td><td>⋯</td><td>0</td><td>0</td><td>0</td><td>0</td><td>0</td><td>0</td><td>0</td><td>0</td><td>0</td><td>0</td></tr>\n",
       "\t<tr><th scope=row>AAACATCGAAGACGGAGCCAAGAC</th><td>0</td><td>0</td><td>0</td><td>0</td><td>0</td><td>0</td><td>0</td><td>0</td><td>0</td><td>0</td><td>⋯</td><td>0</td><td>0</td><td>0</td><td>0</td><td>0</td><td>0</td><td>0</td><td>0</td><td>0</td><td>0</td></tr>\n",
       "</tbody>\n",
       "</table>\n"
      ],
      "text/latex": [
       "A data.frame: 6 × 206\n",
       "\\begin{tabular}{r|lllllllllllllllllllll}\n",
       "  & variant\\_1 1 114590381 A T & variant\\_2 1 114707695 T C & variant\\_3 1 114708169 T A & variant\\_4 1 114713817 C T & variant\\_5 1 114713826 C T & variant\\_6 1 114713846 A G & variant\\_7 1 114713852 A G & variant\\_8 1 114713859 G C & variant\\_9 1 114713875 A G & variant\\_10 1 114713880 T C & ⋯ & variant\\_197 7 55174791 T C & variant\\_198 7 55174796 G A & variant\\_199 7 55174796 G T & variant\\_200 7 55174797 A G & variant\\_201 7 55174807 A G & variant\\_202 7 55181309 C T & variant\\_203 7 55181347 A G & variant\\_204 7 55181370 G A & variant\\_205 7 55181378 C T & variant\\_206 7 55191822 T G\\\\\n",
       "  & <dbl> & <dbl> & <dbl> & <dbl> & <dbl> & <dbl> & <dbl> & <dbl> & <dbl> & <dbl> & ⋯ & <dbl> & <dbl> & <dbl> & <dbl> & <dbl> & <dbl> & <dbl> & <dbl> & <dbl> & <dbl>\\\\\n",
       "\\hline\n",
       "\tAAACATCGAACAACCAACAGATTC & 0 & 0 & 0 & 0 & 0 & 0 & 0 & 0 & 0 & 0 & ⋯ & 0 & 0 & 0 & 0 & 0 & 0 & 0 & 0 & 0 & 0\\\\\n",
       "\tAAACATCGAACGCTTAAGATCGCA & 0 & 0 & 0 & 0 & 0 & 0 & 0 & 0 & 0 & 0 & ⋯ & 0 & 0 & 0 & 0 & 0 & 0 & 0 & 0 & 0 & 0\\\\\n",
       "\tAAACATCGAACGCTTAGCTAACGA & 0 & 0 & 0 & 0 & 0 & 0 & 0 & 0 & 0 & 0 & ⋯ & 0 & 0 & 0 & 0 & 0 & 0 & 0 & 0 & 0 & 0\\\\\n",
       "\tAAACATCGAACGTGATCAAGGAGC & 0 & 0 & 0 & 0 & 0 & 0 & 0 & 0 & 0 & 0 & ⋯ & 0 & 0 & 0 & 0 & 0 & 0 & 0 & 0 & 0 & 0\\\\\n",
       "\tAAACATCGAACGTGATTGAAGAGA & 0 & 0 & 0 & 0 & 0 & 0 & 0 & 0 & 0 & 0 & ⋯ & 0 & 0 & 0 & 0 & 0 & 0 & 0 & 0 & 0 & 0\\\\\n",
       "\tAAACATCGAAGACGGAGCCAAGAC & 0 & 0 & 0 & 0 & 0 & 0 & 0 & 0 & 0 & 0 & ⋯ & 0 & 0 & 0 & 0 & 0 & 0 & 0 & 0 & 0 & 0\\\\\n",
       "\\end{tabular}\n"
      ],
      "text/markdown": [
       "\n",
       "A data.frame: 6 × 206\n",
       "\n",
       "| <!--/--> | variant_1 1 114590381 A T &lt;dbl&gt; | variant_2 1 114707695 T C &lt;dbl&gt; | variant_3 1 114708169 T A &lt;dbl&gt; | variant_4 1 114713817 C T &lt;dbl&gt; | variant_5 1 114713826 C T &lt;dbl&gt; | variant_6 1 114713846 A G &lt;dbl&gt; | variant_7 1 114713852 A G &lt;dbl&gt; | variant_8 1 114713859 G C &lt;dbl&gt; | variant_9 1 114713875 A G &lt;dbl&gt; | variant_10 1 114713880 T C &lt;dbl&gt; | ⋯ ⋯ | variant_197 7 55174791 T C &lt;dbl&gt; | variant_198 7 55174796 G A &lt;dbl&gt; | variant_199 7 55174796 G T &lt;dbl&gt; | variant_200 7 55174797 A G &lt;dbl&gt; | variant_201 7 55174807 A G &lt;dbl&gt; | variant_202 7 55181309 C T &lt;dbl&gt; | variant_203 7 55181347 A G &lt;dbl&gt; | variant_204 7 55181370 G A &lt;dbl&gt; | variant_205 7 55181378 C T &lt;dbl&gt; | variant_206 7 55191822 T G &lt;dbl&gt; |\n",
       "|---|---|---|---|---|---|---|---|---|---|---|---|---|---|---|---|---|---|---|---|---|---|\n",
       "| AAACATCGAACAACCAACAGATTC | 0 | 0 | 0 | 0 | 0 | 0 | 0 | 0 | 0 | 0 | ⋯ | 0 | 0 | 0 | 0 | 0 | 0 | 0 | 0 | 0 | 0 |\n",
       "| AAACATCGAACGCTTAAGATCGCA | 0 | 0 | 0 | 0 | 0 | 0 | 0 | 0 | 0 | 0 | ⋯ | 0 | 0 | 0 | 0 | 0 | 0 | 0 | 0 | 0 | 0 |\n",
       "| AAACATCGAACGCTTAGCTAACGA | 0 | 0 | 0 | 0 | 0 | 0 | 0 | 0 | 0 | 0 | ⋯ | 0 | 0 | 0 | 0 | 0 | 0 | 0 | 0 | 0 | 0 |\n",
       "| AAACATCGAACGTGATCAAGGAGC | 0 | 0 | 0 | 0 | 0 | 0 | 0 | 0 | 0 | 0 | ⋯ | 0 | 0 | 0 | 0 | 0 | 0 | 0 | 0 | 0 | 0 |\n",
       "| AAACATCGAACGTGATTGAAGAGA | 0 | 0 | 0 | 0 | 0 | 0 | 0 | 0 | 0 | 0 | ⋯ | 0 | 0 | 0 | 0 | 0 | 0 | 0 | 0 | 0 | 0 |\n",
       "| AAACATCGAAGACGGAGCCAAGAC | 0 | 0 | 0 | 0 | 0 | 0 | 0 | 0 | 0 | 0 | ⋯ | 0 | 0 | 0 | 0 | 0 | 0 | 0 | 0 | 0 | 0 |\n",
       "\n"
      ],
      "text/plain": [
       "                         variant_1 1 114590381 A T variant_2 1 114707695 T C\n",
       "AAACATCGAACAACCAACAGATTC 0                         0                        \n",
       "AAACATCGAACGCTTAAGATCGCA 0                         0                        \n",
       "AAACATCGAACGCTTAGCTAACGA 0                         0                        \n",
       "AAACATCGAACGTGATCAAGGAGC 0                         0                        \n",
       "AAACATCGAACGTGATTGAAGAGA 0                         0                        \n",
       "AAACATCGAAGACGGAGCCAAGAC 0                         0                        \n",
       "                         variant_3 1 114708169 T A variant_4 1 114713817 C T\n",
       "AAACATCGAACAACCAACAGATTC 0                         0                        \n",
       "AAACATCGAACGCTTAAGATCGCA 0                         0                        \n",
       "AAACATCGAACGCTTAGCTAACGA 0                         0                        \n",
       "AAACATCGAACGTGATCAAGGAGC 0                         0                        \n",
       "AAACATCGAACGTGATTGAAGAGA 0                         0                        \n",
       "AAACATCGAAGACGGAGCCAAGAC 0                         0                        \n",
       "                         variant_5 1 114713826 C T variant_6 1 114713846 A G\n",
       "AAACATCGAACAACCAACAGATTC 0                         0                        \n",
       "AAACATCGAACGCTTAAGATCGCA 0                         0                        \n",
       "AAACATCGAACGCTTAGCTAACGA 0                         0                        \n",
       "AAACATCGAACGTGATCAAGGAGC 0                         0                        \n",
       "AAACATCGAACGTGATTGAAGAGA 0                         0                        \n",
       "AAACATCGAAGACGGAGCCAAGAC 0                         0                        \n",
       "                         variant_7 1 114713852 A G variant_8 1 114713859 G C\n",
       "AAACATCGAACAACCAACAGATTC 0                         0                        \n",
       "AAACATCGAACGCTTAAGATCGCA 0                         0                        \n",
       "AAACATCGAACGCTTAGCTAACGA 0                         0                        \n",
       "AAACATCGAACGTGATCAAGGAGC 0                         0                        \n",
       "AAACATCGAACGTGATTGAAGAGA 0                         0                        \n",
       "AAACATCGAAGACGGAGCCAAGAC 0                         0                        \n",
       "                         variant_9 1 114713875 A G variant_10 1 114713880 T C ⋯\n",
       "AAACATCGAACAACCAACAGATTC 0                         0                          ⋯\n",
       "AAACATCGAACGCTTAAGATCGCA 0                         0                          ⋯\n",
       "AAACATCGAACGCTTAGCTAACGA 0                         0                          ⋯\n",
       "AAACATCGAACGTGATCAAGGAGC 0                         0                          ⋯\n",
       "AAACATCGAACGTGATTGAAGAGA 0                         0                          ⋯\n",
       "AAACATCGAAGACGGAGCCAAGAC 0                         0                          ⋯\n",
       "                         variant_197 7 55174791 T C variant_198 7 55174796 G A\n",
       "AAACATCGAACAACCAACAGATTC 0                          0                         \n",
       "AAACATCGAACGCTTAAGATCGCA 0                          0                         \n",
       "AAACATCGAACGCTTAGCTAACGA 0                          0                         \n",
       "AAACATCGAACGTGATCAAGGAGC 0                          0                         \n",
       "AAACATCGAACGTGATTGAAGAGA 0                          0                         \n",
       "AAACATCGAAGACGGAGCCAAGAC 0                          0                         \n",
       "                         variant_199 7 55174796 G T variant_200 7 55174797 A G\n",
       "AAACATCGAACAACCAACAGATTC 0                          0                         \n",
       "AAACATCGAACGCTTAAGATCGCA 0                          0                         \n",
       "AAACATCGAACGCTTAGCTAACGA 0                          0                         \n",
       "AAACATCGAACGTGATCAAGGAGC 0                          0                         \n",
       "AAACATCGAACGTGATTGAAGAGA 0                          0                         \n",
       "AAACATCGAAGACGGAGCCAAGAC 0                          0                         \n",
       "                         variant_201 7 55174807 A G variant_202 7 55181309 C T\n",
       "AAACATCGAACAACCAACAGATTC 0                          0                         \n",
       "AAACATCGAACGCTTAAGATCGCA 0                          0                         \n",
       "AAACATCGAACGCTTAGCTAACGA 0                          0                         \n",
       "AAACATCGAACGTGATCAAGGAGC 0                          0                         \n",
       "AAACATCGAACGTGATTGAAGAGA 0                          0                         \n",
       "AAACATCGAAGACGGAGCCAAGAC 0                          0                         \n",
       "                         variant_203 7 55181347 A G variant_204 7 55181370 G A\n",
       "AAACATCGAACAACCAACAGATTC 0                          0                         \n",
       "AAACATCGAACGCTTAAGATCGCA 0                          0                         \n",
       "AAACATCGAACGCTTAGCTAACGA 0                          0                         \n",
       "AAACATCGAACGTGATCAAGGAGC 0                          0                         \n",
       "AAACATCGAACGTGATTGAAGAGA 0                          0                         \n",
       "AAACATCGAAGACGGAGCCAAGAC 0                          0                         \n",
       "                         variant_205 7 55181378 C T variant_206 7 55191822 T G\n",
       "AAACATCGAACAACCAACAGATTC 0                          0                         \n",
       "AAACATCGAACGCTTAAGATCGCA 0                          0                         \n",
       "AAACATCGAACGCTTAGCTAACGA 0                          0                         \n",
       "AAACATCGAACGTGATCAAGGAGC 0                          0                         \n",
       "AAACATCGAACGTGATTGAAGAGA 0                          0                         \n",
       "AAACATCGAAGACGGAGCCAAGAC 0                          0                         "
      ]
     },
     "metadata": {},
     "output_type": "display_data"
    }
   ],
   "source": [
    "# convert the matrix to a dataframe\n",
    "df = as.data.frame(t(support_mtx))\n",
    "head(df)"
   ]
  },
  {
   "cell_type": "code",
   "execution_count": 37,
   "metadata": {
    "vscode": {
     "languageId": "r"
    }
   },
   "outputs": [
    {
     "data": {
      "text/html": [
       "<table class=\"dataframe\">\n",
       "<caption>A data.frame: 6 × 2</caption>\n",
       "<thead>\n",
       "\t<tr><th></th><th scope=col>chr1:114713964:T-C</th><th scope=col>CID</th></tr>\n",
       "\t<tr><th></th><th scope=col>&lt;dbl&gt;</th><th scope=col>&lt;int&gt;</th></tr>\n",
       "</thead>\n",
       "<tbody>\n",
       "\t<tr><th scope=row>AAACATCGAACAACCAACAGATTC</th><td>0</td><td>1</td></tr>\n",
       "\t<tr><th scope=row>AAACATCGAACGCTTAAGATCGCA</th><td>1</td><td>2</td></tr>\n",
       "\t<tr><th scope=row>AAACATCGAACGCTTAGCTAACGA</th><td>1</td><td>3</td></tr>\n",
       "\t<tr><th scope=row>AAACATCGAACGTGATCAAGGAGC</th><td>1</td><td>4</td></tr>\n",
       "\t<tr><th scope=row>AAACATCGAACGTGATTGAAGAGA</th><td>0</td><td>5</td></tr>\n",
       "\t<tr><th scope=row>AAACATCGAAGACGGAGCCAAGAC</th><td>1</td><td>6</td></tr>\n",
       "</tbody>\n",
       "</table>\n"
      ],
      "text/latex": [
       "A data.frame: 6 × 2\n",
       "\\begin{tabular}{r|ll}\n",
       "  & chr1:114713964:T-C & CID\\\\\n",
       "  & <dbl> & <int>\\\\\n",
       "\\hline\n",
       "\tAAACATCGAACAACCAACAGATTC & 0 & 1\\\\\n",
       "\tAAACATCGAACGCTTAAGATCGCA & 1 & 2\\\\\n",
       "\tAAACATCGAACGCTTAGCTAACGA & 1 & 3\\\\\n",
       "\tAAACATCGAACGTGATCAAGGAGC & 1 & 4\\\\\n",
       "\tAAACATCGAACGTGATTGAAGAGA & 0 & 5\\\\\n",
       "\tAAACATCGAAGACGGAGCCAAGAC & 1 & 6\\\\\n",
       "\\end{tabular}\n"
      ],
      "text/markdown": [
       "\n",
       "A data.frame: 6 × 2\n",
       "\n",
       "| <!--/--> | chr1:114713964:T-C &lt;dbl&gt; | CID &lt;int&gt; |\n",
       "|---|---|---|\n",
       "| AAACATCGAACAACCAACAGATTC | 0 | 1 |\n",
       "| AAACATCGAACGCTTAAGATCGCA | 1 | 2 |\n",
       "| AAACATCGAACGCTTAGCTAACGA | 1 | 3 |\n",
       "| AAACATCGAACGTGATCAAGGAGC | 1 | 4 |\n",
       "| AAACATCGAACGTGATTGAAGAGA | 0 | 5 |\n",
       "| AAACATCGAAGACGGAGCCAAGAC | 1 | 6 |\n",
       "\n"
      ],
      "text/plain": [
       "                         chr1:114713964:T-C CID\n",
       "AAACATCGAACAACCAACAGATTC 0                  1  \n",
       "AAACATCGAACGCTTAAGATCGCA 1                  2  \n",
       "AAACATCGAACGCTTAGCTAACGA 1                  3  \n",
       "AAACATCGAACGTGATCAAGGAGC 1                  4  \n",
       "AAACATCGAACGTGATTGAAGAGA 0                  5  \n",
       "AAACATCGAAGACGGAGCCAAGAC 1                  6  "
      ]
     },
     "metadata": {},
     "output_type": "display_data"
    }
   ],
   "source": [
    "# Pull a variant of interest, for example variant 20\n",
    "library(dplyr)\n",
    "library(stringr)\n",
    "gt20 = df['variant_20 1 114713964 T C']\n",
    "gt20 <- gt20 %>%\n",
    "  rename(`chr1:114713964:T-C` = `variant_20 1 114713964 T C`)\n",
    "gt20$CID = 1:nrow(gt20)\n",
    "head(gt20)"
   ]
  },
  {
   "cell_type": "code",
   "execution_count": 38,
   "metadata": {
    "vscode": {
     "languageId": "r"
    }
   },
   "outputs": [
    {
     "data": {
      "text/html": [
       "<table class=\"dataframe\">\n",
       "<caption>A data.frame: 6 × 4</caption>\n",
       "<thead>\n",
       "\t<tr><th></th><th scope=col>VID</th><th scope=col>CID</th><th scope=col>ref_count</th><th scope=col>alt_count</th></tr>\n",
       "\t<tr><th></th><th scope=col>&lt;int&gt;</th><th scope=col>&lt;int&gt;</th><th scope=col>&lt;int&gt;</th><th scope=col>&lt;int&gt;</th></tr>\n",
       "</thead>\n",
       "<tbody>\n",
       "\t<tr><th scope=row>1</th><td>20</td><td>2</td><td>249</td><td>0</td></tr>\n",
       "\t<tr><th scope=row>2</th><td>20</td><td>3</td><td>  1</td><td>0</td></tr>\n",
       "\t<tr><th scope=row>3</th><td>20</td><td>4</td><td>208</td><td>0</td></tr>\n",
       "\t<tr><th scope=row>4</th><td>20</td><td>6</td><td>231</td><td>0</td></tr>\n",
       "\t<tr><th scope=row>5</th><td>20</td><td>8</td><td> 35</td><td>0</td></tr>\n",
       "\t<tr><th scope=row>6</th><td>20</td><td>9</td><td>111</td><td>0</td></tr>\n",
       "</tbody>\n",
       "</table>\n"
      ],
      "text/latex": [
       "A data.frame: 6 × 4\n",
       "\\begin{tabular}{r|llll}\n",
       "  & VID & CID & ref\\_count & alt\\_count\\\\\n",
       "  & <int> & <int> & <int> & <int>\\\\\n",
       "\\hline\n",
       "\t1 & 20 & 2 & 249 & 0\\\\\n",
       "\t2 & 20 & 3 &   1 & 0\\\\\n",
       "\t3 & 20 & 4 & 208 & 0\\\\\n",
       "\t4 & 20 & 6 & 231 & 0\\\\\n",
       "\t5 & 20 & 8 &  35 & 0\\\\\n",
       "\t6 & 20 & 9 & 111 & 0\\\\\n",
       "\\end{tabular}\n"
      ],
      "text/markdown": [
       "\n",
       "A data.frame: 6 × 4\n",
       "\n",
       "| <!--/--> | VID &lt;int&gt; | CID &lt;int&gt; | ref_count &lt;int&gt; | alt_count &lt;int&gt; |\n",
       "|---|---|---|---|---|\n",
       "| 1 | 20 | 2 | 249 | 0 |\n",
       "| 2 | 20 | 3 |   1 | 0 |\n",
       "| 3 | 20 | 4 | 208 | 0 |\n",
       "| 4 | 20 | 6 | 231 | 0 |\n",
       "| 5 | 20 | 8 |  35 | 0 |\n",
       "| 6 | 20 | 9 | 111 | 0 |\n",
       "\n"
      ],
      "text/plain": [
       "  VID CID ref_count alt_count\n",
       "1 20  2   249       0        \n",
       "2 20  3     1       0        \n",
       "3 20  4   208       0        \n",
       "4 20  6   231       0        \n",
       "5 20  8    35       0        \n",
       "6 20  9   111       0        "
      ]
     },
     "metadata": {},
     "output_type": "display_data"
    }
   ],
   "source": [
    "# read raw count\n",
    "raw_count = read.table('/SGRNJ06/randd/USER/zhouyiqi/2024/test/snp1.5.1/D0722_2_13NARS_3_FJ_variant_count.tsv', header=TRUE)\n",
    "count20 = raw_count %>% filter(VID==20)\n",
    "head(count20)"
   ]
  },
  {
   "cell_type": "code",
   "execution_count": 48,
   "metadata": {
    "vscode": {
     "languageId": "r"
    }
   },
   "outputs": [
    {
     "data": {
      "text/html": [
       "<table class=\"dataframe\">\n",
       "<caption>A data.frame: 6 × 4</caption>\n",
       "<thead>\n",
       "\t<tr><th></th><th scope=col>CID</th><th scope=col>chr1:114713964:T-C</th><th scope=col>ref_count</th><th scope=col>alt_count</th></tr>\n",
       "\t<tr><th></th><th scope=col>&lt;int&gt;</th><th scope=col>&lt;dbl&gt;</th><th scope=col>&lt;dbl&gt;</th><th scope=col>&lt;dbl&gt;</th></tr>\n",
       "</thead>\n",
       "<tbody>\n",
       "\t<tr><th scope=row>AAACATCGAACAACCAACAGATTC</th><td>1</td><td>0</td><td>  0</td><td>0</td></tr>\n",
       "\t<tr><th scope=row>AAACATCGAACGCTTAAGATCGCA</th><td>2</td><td>1</td><td>249</td><td>0</td></tr>\n",
       "\t<tr><th scope=row>AAACATCGAACGCTTAGCTAACGA</th><td>3</td><td>1</td><td>  1</td><td>0</td></tr>\n",
       "\t<tr><th scope=row>AAACATCGAACGTGATCAAGGAGC</th><td>4</td><td>1</td><td>208</td><td>0</td></tr>\n",
       "\t<tr><th scope=row>AAACATCGAACGTGATTGAAGAGA</th><td>5</td><td>0</td><td>  0</td><td>0</td></tr>\n",
       "\t<tr><th scope=row>AAACATCGAAGACGGAGCCAAGAC</th><td>6</td><td>1</td><td>231</td><td>0</td></tr>\n",
       "</tbody>\n",
       "</table>\n"
      ],
      "text/latex": [
       "A data.frame: 6 × 4\n",
       "\\begin{tabular}{r|llll}\n",
       "  & CID & chr1:114713964:T-C & ref\\_count & alt\\_count\\\\\n",
       "  & <int> & <dbl> & <dbl> & <dbl>\\\\\n",
       "\\hline\n",
       "\tAAACATCGAACAACCAACAGATTC & 1 & 0 &   0 & 0\\\\\n",
       "\tAAACATCGAACGCTTAAGATCGCA & 2 & 1 & 249 & 0\\\\\n",
       "\tAAACATCGAACGCTTAGCTAACGA & 3 & 1 &   1 & 0\\\\\n",
       "\tAAACATCGAACGTGATCAAGGAGC & 4 & 1 & 208 & 0\\\\\n",
       "\tAAACATCGAACGTGATTGAAGAGA & 5 & 0 &   0 & 0\\\\\n",
       "\tAAACATCGAAGACGGAGCCAAGAC & 6 & 1 & 231 & 0\\\\\n",
       "\\end{tabular}\n"
      ],
      "text/markdown": [
       "\n",
       "A data.frame: 6 × 4\n",
       "\n",
       "| <!--/--> | CID &lt;int&gt; | chr1:114713964:T-C &lt;dbl&gt; | ref_count &lt;dbl&gt; | alt_count &lt;dbl&gt; |\n",
       "|---|---|---|---|---|\n",
       "| AAACATCGAACAACCAACAGATTC | 1 | 0 |   0 | 0 |\n",
       "| AAACATCGAACGCTTAAGATCGCA | 2 | 1 | 249 | 0 |\n",
       "| AAACATCGAACGCTTAGCTAACGA | 3 | 1 |   1 | 0 |\n",
       "| AAACATCGAACGTGATCAAGGAGC | 4 | 1 | 208 | 0 |\n",
       "| AAACATCGAACGTGATTGAAGAGA | 5 | 0 |   0 | 0 |\n",
       "| AAACATCGAAGACGGAGCCAAGAC | 6 | 1 | 231 | 0 |\n",
       "\n"
      ],
      "text/plain": [
       "                         CID chr1:114713964:T-C ref_count alt_count\n",
       "AAACATCGAACAACCAACAGATTC 1   0                    0       0        \n",
       "AAACATCGAACGCTTAAGATCGCA 2   1                  249       0        \n",
       "AAACATCGAACGCTTAGCTAACGA 3   1                    1       0        \n",
       "AAACATCGAACGTGATCAAGGAGC 4   1                  208       0        \n",
       "AAACATCGAACGTGATTGAAGAGA 5   0                    0       0        \n",
       "AAACATCGAAGACGGAGCCAAGAC 6   1                  231       0        "
      ]
     },
     "metadata": {},
     "output_type": "display_data"
    }
   ],
   "source": [
    "# merge by cell ID\n",
    "x = gt20\n",
    "y = count20\n",
    "merge20 <- merge(x, y, by.x = \"CID\", by.y = \"CID\", all.x = TRUE)\n",
    "merge20$VID = NULL\n",
    "merge20[is.na(merge20)] <- 0\n",
    "row.names(merge20) = row.names(gt20)\n",
    "head(merge20)"
   ]
  },
  {
   "cell_type": "code",
   "execution_count": 49,
   "metadata": {
    "vscode": {
     "languageId": "r"
    }
   },
   "outputs": [
    {
     "data": {
      "text/html": [
       "<table class=\"dataframe\">\n",
       "<caption>A data.frame: 6 × 4</caption>\n",
       "<thead>\n",
       "\t<tr><th></th><th scope=col>CID</th><th scope=col>chr1:114713964:T-C</th><th scope=col>ref_count</th><th scope=col>alt_count</th></tr>\n",
       "\t<tr><th></th><th scope=col>&lt;int&gt;</th><th scope=col>&lt;chr&gt;</th><th scope=col>&lt;dbl&gt;</th><th scope=col>&lt;dbl&gt;</th></tr>\n",
       "</thead>\n",
       "<tbody>\n",
       "\t<tr><th scope=row>AAACATCGAACAACCAACAGATTC</th><td>1</td><td>No Call</td><td>  0</td><td>0</td></tr>\n",
       "\t<tr><th scope=row>AAACATCGAACGCTTAAGATCGCA</th><td>2</td><td>ref/ref</td><td>249</td><td>0</td></tr>\n",
       "\t<tr><th scope=row>AAACATCGAACGCTTAGCTAACGA</th><td>3</td><td>ref/ref</td><td>  1</td><td>0</td></tr>\n",
       "\t<tr><th scope=row>AAACATCGAACGTGATCAAGGAGC</th><td>4</td><td>ref/ref</td><td>208</td><td>0</td></tr>\n",
       "\t<tr><th scope=row>AAACATCGAACGTGATTGAAGAGA</th><td>5</td><td>No Call</td><td>  0</td><td>0</td></tr>\n",
       "\t<tr><th scope=row>AAACATCGAAGACGGAGCCAAGAC</th><td>6</td><td>ref/ref</td><td>231</td><td>0</td></tr>\n",
       "</tbody>\n",
       "</table>\n"
      ],
      "text/latex": [
       "A data.frame: 6 × 4\n",
       "\\begin{tabular}{r|llll}\n",
       "  & CID & chr1:114713964:T-C & ref\\_count & alt\\_count\\\\\n",
       "  & <int> & <chr> & <dbl> & <dbl>\\\\\n",
       "\\hline\n",
       "\tAAACATCGAACAACCAACAGATTC & 1 & No Call &   0 & 0\\\\\n",
       "\tAAACATCGAACGCTTAAGATCGCA & 2 & ref/ref & 249 & 0\\\\\n",
       "\tAAACATCGAACGCTTAGCTAACGA & 3 & ref/ref &   1 & 0\\\\\n",
       "\tAAACATCGAACGTGATCAAGGAGC & 4 & ref/ref & 208 & 0\\\\\n",
       "\tAAACATCGAACGTGATTGAAGAGA & 5 & No Call &   0 & 0\\\\\n",
       "\tAAACATCGAAGACGGAGCCAAGAC & 6 & ref/ref & 231 & 0\\\\\n",
       "\\end{tabular}\n"
      ],
      "text/markdown": [
       "\n",
       "A data.frame: 6 × 4\n",
       "\n",
       "| <!--/--> | CID &lt;int&gt; | chr1:114713964:T-C &lt;chr&gt; | ref_count &lt;dbl&gt; | alt_count &lt;dbl&gt; |\n",
       "|---|---|---|---|---|\n",
       "| AAACATCGAACAACCAACAGATTC | 1 | No Call |   0 | 0 |\n",
       "| AAACATCGAACGCTTAAGATCGCA | 2 | ref/ref | 249 | 0 |\n",
       "| AAACATCGAACGCTTAGCTAACGA | 3 | ref/ref |   1 | 0 |\n",
       "| AAACATCGAACGTGATCAAGGAGC | 4 | ref/ref | 208 | 0 |\n",
       "| AAACATCGAACGTGATTGAAGAGA | 5 | No Call |   0 | 0 |\n",
       "| AAACATCGAAGACGGAGCCAAGAC | 6 | ref/ref | 231 | 0 |\n",
       "\n"
      ],
      "text/plain": [
       "                         CID chr1:114713964:T-C ref_count alt_count\n",
       "AAACATCGAACAACCAACAGATTC 1   No Call              0       0        \n",
       "AAACATCGAACGCTTAAGATCGCA 2   ref/ref            249       0        \n",
       "AAACATCGAACGCTTAGCTAACGA 3   ref/ref              1       0        \n",
       "AAACATCGAACGTGATCAAGGAGC 4   ref/ref            208       0        \n",
       "AAACATCGAACGTGATTGAAGAGA 5   No Call              0       0        \n",
       "AAACATCGAAGACGGAGCCAAGAC 6   ref/ref            231       0        "
      ]
     },
     "metadata": {},
     "output_type": "display_data"
    }
   ],
   "source": [
    "# rename number to meaningful label\n",
    "merge20 <- merge20 %>%\n",
    "  mutate(`chr1:114713964:T-C` = recode(as.character(`chr1:114713964:T-C`), \n",
    "                       `0` = \"No Call\", \n",
    "                       `1` = \"ref/ref\", \n",
    "                       `2` = \"alt/alt\", \n",
    "                       `3` = \"alt/ref\"))\n",
    "head(merge20)"
   ]
  },
  {
   "cell_type": "code",
   "execution_count": 50,
   "metadata": {
    "vscode": {
     "languageId": "r"
    }
   },
   "outputs": [
    {
     "name": "stderr",
     "output_type": "stream",
     "text": [
      "Warning message:\n",
      "“Feature names cannot have underscores ('_'), replacing with dashes ('-')”\n"
     ]
    },
    {
     "data": {
      "text/html": [
       "<table class=\"dataframe\">\n",
       "<caption>A data.frame: 6 × 7</caption>\n",
       "<thead>\n",
       "\t<tr><th></th><th scope=col>orig.ident</th><th scope=col>nCount_RNA</th><th scope=col>nFeature_RNA</th><th scope=col>CID</th><th scope=col>chr1:114713964:T-C</th><th scope=col>ref_count</th><th scope=col>alt_count</th></tr>\n",
       "\t<tr><th></th><th scope=col>&lt;fct&gt;</th><th scope=col>&lt;dbl&gt;</th><th scope=col>&lt;int&gt;</th><th scope=col>&lt;int&gt;</th><th scope=col>&lt;chr&gt;</th><th scope=col>&lt;dbl&gt;</th><th scope=col>&lt;dbl&gt;</th></tr>\n",
       "</thead>\n",
       "<tbody>\n",
       "\t<tr><th scope=row>AAACATCGAACAACCAACAGATTC</th><td>seurat_obj</td><td>786</td><td>529</td><td>1</td><td>No Call</td><td>  0</td><td>0</td></tr>\n",
       "\t<tr><th scope=row>AAACATCGAACGCTTAAGATCGCA</th><td>seurat_obj</td><td>415</td><td>261</td><td>2</td><td>ref/ref</td><td>249</td><td>0</td></tr>\n",
       "\t<tr><th scope=row>AAACATCGAACGCTTAGCTAACGA</th><td>seurat_obj</td><td>812</td><td>460</td><td>3</td><td>ref/ref</td><td>  1</td><td>0</td></tr>\n",
       "\t<tr><th scope=row>AAACATCGAACGTGATCAAGGAGC</th><td>seurat_obj</td><td>597</td><td>349</td><td>4</td><td>ref/ref</td><td>208</td><td>0</td></tr>\n",
       "\t<tr><th scope=row>AAACATCGAACGTGATTGAAGAGA</th><td>seurat_obj</td><td>819</td><td>576</td><td>5</td><td>No Call</td><td>  0</td><td>0</td></tr>\n",
       "\t<tr><th scope=row>AAACATCGAAGACGGAGCCAAGAC</th><td>seurat_obj</td><td>859</td><td>548</td><td>6</td><td>ref/ref</td><td>231</td><td>0</td></tr>\n",
       "</tbody>\n",
       "</table>\n"
      ],
      "text/latex": [
       "A data.frame: 6 × 7\n",
       "\\begin{tabular}{r|lllllll}\n",
       "  & orig.ident & nCount\\_RNA & nFeature\\_RNA & CID & chr1:114713964:T-C & ref\\_count & alt\\_count\\\\\n",
       "  & <fct> & <dbl> & <int> & <int> & <chr> & <dbl> & <dbl>\\\\\n",
       "\\hline\n",
       "\tAAACATCGAACAACCAACAGATTC & seurat\\_obj & 786 & 529 & 1 & No Call &   0 & 0\\\\\n",
       "\tAAACATCGAACGCTTAAGATCGCA & seurat\\_obj & 415 & 261 & 2 & ref/ref & 249 & 0\\\\\n",
       "\tAAACATCGAACGCTTAGCTAACGA & seurat\\_obj & 812 & 460 & 3 & ref/ref &   1 & 0\\\\\n",
       "\tAAACATCGAACGTGATCAAGGAGC & seurat\\_obj & 597 & 349 & 4 & ref/ref & 208 & 0\\\\\n",
       "\tAAACATCGAACGTGATTGAAGAGA & seurat\\_obj & 819 & 576 & 5 & No Call &   0 & 0\\\\\n",
       "\tAAACATCGAAGACGGAGCCAAGAC & seurat\\_obj & 859 & 548 & 6 & ref/ref & 231 & 0\\\\\n",
       "\\end{tabular}\n"
      ],
      "text/markdown": [
       "\n",
       "A data.frame: 6 × 7\n",
       "\n",
       "| <!--/--> | orig.ident &lt;fct&gt; | nCount_RNA &lt;dbl&gt; | nFeature_RNA &lt;int&gt; | CID &lt;int&gt; | chr1:114713964:T-C &lt;chr&gt; | ref_count &lt;dbl&gt; | alt_count &lt;dbl&gt; |\n",
       "|---|---|---|---|---|---|---|---|\n",
       "| AAACATCGAACAACCAACAGATTC | seurat_obj | 786 | 529 | 1 | No Call |   0 | 0 |\n",
       "| AAACATCGAACGCTTAAGATCGCA | seurat_obj | 415 | 261 | 2 | ref/ref | 249 | 0 |\n",
       "| AAACATCGAACGCTTAGCTAACGA | seurat_obj | 812 | 460 | 3 | ref/ref |   1 | 0 |\n",
       "| AAACATCGAACGTGATCAAGGAGC | seurat_obj | 597 | 349 | 4 | ref/ref | 208 | 0 |\n",
       "| AAACATCGAACGTGATTGAAGAGA | seurat_obj | 819 | 576 | 5 | No Call |   0 | 0 |\n",
       "| AAACATCGAAGACGGAGCCAAGAC | seurat_obj | 859 | 548 | 6 | ref/ref | 231 | 0 |\n",
       "\n"
      ],
      "text/plain": [
       "                         orig.ident nCount_RNA nFeature_RNA CID\n",
       "AAACATCGAACAACCAACAGATTC seurat_obj 786        529          1  \n",
       "AAACATCGAACGCTTAAGATCGCA seurat_obj 415        261          2  \n",
       "AAACATCGAACGCTTAGCTAACGA seurat_obj 812        460          3  \n",
       "AAACATCGAACGTGATCAAGGAGC seurat_obj 597        349          4  \n",
       "AAACATCGAACGTGATTGAAGAGA seurat_obj 819        576          5  \n",
       "AAACATCGAAGACGGAGCCAAGAC seurat_obj 859        548          6  \n",
       "                         chr1:114713964:T-C ref_count alt_count\n",
       "AAACATCGAACAACCAACAGATTC No Call              0       0        \n",
       "AAACATCGAACGCTTAAGATCGCA ref/ref            249       0        \n",
       "AAACATCGAACGCTTAGCTAACGA ref/ref              1       0        \n",
       "AAACATCGAACGTGATCAAGGAGC ref/ref            208       0        \n",
       "AAACATCGAACGTGATTGAAGAGA No Call              0       0        \n",
       "AAACATCGAAGACGGAGCCAAGAC ref/ref            231       0        "
      ]
     },
     "metadata": {},
     "output_type": "display_data"
    }
   ],
   "source": [
    "# merge with scRNA matrix, add the variant to metadata\n",
    "seurat.data <- Read10X(\"/SGRNJ06/randd/USER/zhouyiqi/2024/test/snp1.5.1/scRNA_matrix\")\n",
    "seurat_obj <- CreateSeuratObject(seurat.data, min.cells = 1, project = \"seurat_obj\")\n",
    "seurat_obj <- AddMetaData(object = seurat_obj, metadata = merge20)\n",
    "head(seurat_obj[[]])"
   ]
  },
  {
   "cell_type": "code",
   "execution_count": null,
   "metadata": {
    "vscode": {
     "languageId": "r"
    }
   },
   "outputs": [],
   "source": []
  }
 ],
 "metadata": {
  "kernelspec": {
   "display_name": "R",
   "language": "R",
   "name": "ir"
  },
  "language_info": {
   "codemirror_mode": "r",
   "file_extension": ".r",
   "mimetype": "text/x-r-source",
   "name": "R",
   "pygments_lexer": "r",
   "version": "4.4.0"
  }
 },
 "nbformat": 4,
 "nbformat_minor": 2
}
